{
 "cells": [
  {
   "cell_type": "code",
   "execution_count": 2,
   "metadata": {},
   "outputs": [
    {
     "name": "stdout",
     "output_type": "stream",
     "text": [
      "IPython: 8.12.0\n",
      "numpy: 1.24.3\n",
      "scipy: 1.10.1\n",
      "matplotlib: 3.7.1\n",
      "scikit-learn: 1.2.2\n"
     ]
    }
   ],
   "source": [
    "from __future__ import print_function\n",
    "\n",
    "import IPython\n",
    "print('IPython:', IPython.__version__)\n",
    "\n",
    "import numpy as np\n",
    "print('numpy:', np.__version__)\n",
    "\n",
    "import scipy\n",
    "print('scipy:', scipy.__version__)\n",
    "\n",
    "import matplotlib\n",
    "from matplotlib import pyplot as plt\n",
    "print('matplotlib:', matplotlib.__version__)\n",
    "\n",
    "import sklearn\n",
    "print('scikit-learn:', sklearn.__version__)"
   ]
  },
  {
   "cell_type": "markdown",
   "metadata": {},
   "source": [
    "# About Scikit-Learn\n",
    "\n",
    "[Scikit-Learn](http://github.com/scikit-learn/scikit-learn) is a Python package designed to give access to **well-known** machine learning algorithms within Python code, through a **clean, well-thought-out API**. It has been built by hundreds of contributors from around the world, and is used across industry and academia.\n",
    "\n",
    "Scikit-Learn is built upon Python's [NumPy (Numerical Python)](http://numpy.org) and [SciPy (Scientific Python)](http://scipy.org) libraries, which enable efficient in-core numerical and scientific computation within Python. As such, scikit-learn is not specifically designed for extremely large datasets, though there is [some work](https://github.com/ogrisel/parallel_ml_tutorial) in this area."
   ]
  },
  {
   "cell_type": "markdown",
   "metadata": {},
   "source": [
    "# Representation of Data in Scikit-learn\n",
    "\n",
    "Most machine learning algorithms implemented in scikit-learn expect data to be stored in a\n",
    "**two-dimensional array or matrix**.  The arrays can be\n",
    "either ``numpy`` arrays, or in some cases ``scipy.sparse`` matrices.\n",
    "The size of the array is expected to be `[n_samples, n_features]`\n",
    "\n",
    "- **n_samples:**   The number of samples: each sample is an item to process (e.g. classify).\n",
    "  A sample can be a document, a picture, a sound, a video, an astronomical object,\n",
    "  a row in database or CSV file,\n",
    "  or whatever you can describe with a fixed set of quantitative traits.\n",
    "- **n_features:**  The number of features or distinct traits that can be used to describe each\n",
    "  item in a quantitative manner.  Features are generally real-valued, but may be boolean or\n",
    "  discrete-valued in some cases.\n",
    "\n",
    "The number of features must be fixed in advance. However it can be very high dimensional\n",
    "(e.g. millions of features) with most of them being zeros for a given sample. This is a case\n",
    "where `scipy.sparse` matrices can be useful, in that they are\n",
    "much more memory-efficient than numpy arrays."
   ]
  },
  {
   "cell_type": "markdown",
   "metadata": {},
   "source": [
    "![data-layout.png](data:image/png;base64,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)\n",
    "\n",
    "(Figure from the [Python Data Science Handbook](https://github.com/jakevdp/PythonDataScienceHandbook))"
   ]
  },
  {
   "cell_type": "markdown",
   "metadata": {},
   "source": [
    "## Example: Iris Dataset"
   ]
  },
  {
   "cell_type": "markdown",
   "metadata": {},
   "source": [
    "Scikit-learn has a very straightforward set of data on these iris species.  The data consist of\n",
    "the following:\n",
    "\n",
    "- Features in the Iris dataset:\n",
    "\n",
    "  1. sepal length in cm\n",
    "  2. sepal width in cm\n",
    "  3. petal length in cm\n",
    "  4. petal width in cm\n",
    "\n",
    "- Target classes to predict:\n",
    "\n",
    "  1. Iris Setosa\n",
    "  2. Iris Versicolour\n",
    "  3. Iris Virginica\n",
    "\n",
    "  ``scikit-learn`` embeds a copy of the iris CSV file along with a helper function to load it into numpy arrays:"
   ]
  },
  {
   "cell_type": "code",
   "execution_count": 3,
   "metadata": {},
   "outputs": [],
   "source": [
    "from sklearn.datasets import load_iris\n",
    "iris = load_iris()"
   ]
  },
  {
   "cell_type": "code",
   "execution_count": 4,
   "metadata": {},
   "outputs": [
    {
     "data": {
      "text/plain": [
       "dict_keys(['data', 'target', 'frame', 'target_names', 'DESCR', 'feature_names', 'filename', 'data_module'])"
      ]
     },
     "execution_count": 4,
     "metadata": {},
     "output_type": "execute_result"
    }
   ],
   "source": [
    "iris.keys()"
   ]
  },
  {
   "cell_type": "code",
   "execution_count": 5,
   "metadata": {},
   "outputs": [
    {
     "name": "stdout",
     "output_type": "stream",
     "text": [
      "(150, 4)\n",
      "[5.1 3.5 1.4 0.2]\n"
     ]
    }
   ],
   "source": [
    "n_samples, n_features = iris.data.shape\n",
    "print((n_samples, n_features))\n",
    "print(iris.data[0])"
   ]
  },
  {
   "cell_type": "code",
   "execution_count": 6,
   "metadata": {},
   "outputs": [
    {
     "name": "stdout",
     "output_type": "stream",
     "text": [
      "(150, 4)\n",
      "(150,)\n"
     ]
    }
   ],
   "source": [
    "print(iris.data.shape)\n",
    "print(iris.target.shape)"
   ]
  },
  {
   "cell_type": "code",
   "execution_count": 7,
   "metadata": {},
   "outputs": [
    {
     "name": "stdout",
     "output_type": "stream",
     "text": [
      "[0 0 0 0 0 0 0 0 0 0 0 0 0 0 0 0 0 0 0 0 0 0 0 0 0 0 0 0 0 0 0 0 0 0 0 0 0\n",
      " 0 0 0 0 0 0 0 0 0 0 0 0 0 1 1 1 1 1 1 1 1 1 1 1 1 1 1 1 1 1 1 1 1 1 1 1 1\n",
      " 1 1 1 1 1 1 1 1 1 1 1 1 1 1 1 1 1 1 1 1 1 1 1 1 1 1 2 2 2 2 2 2 2 2 2 2 2\n",
      " 2 2 2 2 2 2 2 2 2 2 2 2 2 2 2 2 2 2 2 2 2 2 2 2 2 2 2 2 2 2 2 2 2 2 2 2 2\n",
      " 2 2]\n"
     ]
    }
   ],
   "source": [
    "print(iris.target)"
   ]
  },
  {
   "cell_type": "code",
   "execution_count": 8,
   "metadata": {},
   "outputs": [
    {
     "name": "stdout",
     "output_type": "stream",
     "text": [
      "['setosa' 'versicolor' 'virginica']\n"
     ]
    }
   ],
   "source": [
    "print(iris.target_names)"
   ]
  },
  {
   "cell_type": "markdown",
   "metadata": {},
   "source": [
    "This data is four dimensional, but we can visualize two of the dimensions\n",
    "at a time using a simple scatter-plot:"
   ]
  },
  {
   "cell_type": "code",
   "execution_count": 9,
   "metadata": {},
   "outputs": [
    {
     "data": {
      "image/png": "[encoded data removed]",
      "text/plain": [
       "<Figure size 800x550 with 2 Axes>"
      ]
     },
     "metadata": {},
     "output_type": "display_data"
    }
   ],
   "source": [
    "plt.style.use(\"seaborn-v0_8\")\n",
    "x_index = 2\n",
    "y_index = 1\n",
    "\n",
    "# this formatter will label the colorbar with the correct target names\n",
    "formatter = plt.FuncFormatter(lambda i, *args: iris.target_names[int(i)])\n",
    "\n",
    "plt.scatter(iris.data[:, x_index], iris.data[:, y_index],\n",
    "            c=iris.target, cmap='RdYlBu')\n",
    "plt.colorbar(ticks=[0, 1, 2], format=formatter)\n",
    "plt.clim(-0.5, 2.5)\n",
    "plt.xlabel(iris.feature_names[x_index])\n",
    "plt.ylabel(iris.feature_names[y_index])\n",
    "plt.show()"
   ]
  },
  {
   "cell_type": "markdown",
   "metadata": {},
   "source": [
    "# The Scikit-learn Estimator Object\n",
    "\n",
    "Every algorithm is exposed in scikit-learn via an ''Estimator'' object. For instance a linear regression is implemented as so:"
   ]
  },
  {
   "cell_type": "code",
   "execution_count": 10,
   "metadata": {},
   "outputs": [],
   "source": [
    "from sklearn.linear_model import LinearRegression"
   ]
  },
  {
   "cell_type": "markdown",
   "metadata": {},
   "source": [
    "**Estimator parameters**: All the parameters of an estimator can be set when it is instantiated, and have suitable default values:"
   ]
  },
  {
   "cell_type": "code",
   "execution_count": 11,
   "metadata": {},
   "outputs": [
    {
     "name": "stdout",
     "output_type": "stream",
     "text": [
      "LinearRegression()\n"
     ]
    }
   ],
   "source": [
    "model = LinearRegression()\n",
    "print(model)"
   ]
  },
  {
   "cell_type": "markdown",
   "metadata": {},
   "source": [
    "**Estimated Model parameters**: When data is *fit* with an estimator, parameters are estimated from the data at hand. All the estimated parameters are attributes of the estimator object ending by an underscore:"
   ]
  },
  {
   "cell_type": "code",
   "execution_count": 12,
   "metadata": {},
   "outputs": [],
   "source": [
    "x = np.arange(10)\n",
    "y = 2 * x + 1"
   ]
  },
  {
   "cell_type": "code",
   "execution_count": 13,
   "metadata": {},
   "outputs": [
    {
     "name": "stdout",
     "output_type": "stream",
     "text": [
      "[0 1 2 3 4 5 6 7 8 9]\n",
      "[ 1  3  5  7  9 11 13 15 17 19]\n"
     ]
    }
   ],
   "source": [
    "print(x)\n",
    "print(y)"
   ]
  },
  {
   "cell_type": "code",
   "execution_count": 14,
   "metadata": {},
   "outputs": [
    {
     "data": {
      "image/png": "[encoded data removed]",
      "text/plain": [
       "<Figure size 800x550 with 1 Axes>"
      ]
     },
     "metadata": {},
     "output_type": "display_data"
    }
   ],
   "source": [
    "plt.plot(x, y, 'o');"
   ]
  },
  {
   "cell_type": "code",
   "execution_count": 15,
   "metadata": {},
   "outputs": [
    {
     "name": "stdout",
     "output_type": "stream",
     "text": [
      "[[0]\n",
      " [1]\n",
      " [2]\n",
      " [3]\n",
      " [4]\n",
      " [5]\n",
      " [6]\n",
      " [7]\n",
      " [8]\n",
      " [9]]\n",
      "[ 1  3  5  7  9 11 13 15 17 19]\n"
     ]
    }
   ],
   "source": [
    "# The input data for sklearn is 2D: (samples == 10 x features == 1)\n",
    "X = x[:, np.newaxis]\n",
    "print(X)\n",
    "print(y)"
   ]
  },
  {
   "cell_type": "code",
   "execution_count": 16,
   "metadata": {},
   "outputs": [
    {
     "data": {
      "text/html": [
       "<style>#sk-container-id-1 {color: black;background-color: white;}#sk-container-id-1 pre{padding: 0;}#sk-container-id-1 div.sk-toggleable {background-color: white;}#sk-container-id-1 label.sk-toggleable__label {cursor: pointer;display: block;width: 100%;margin-bottom: 0;padding: 0.3em;box-sizing: border-box;text-align: center;}#sk-container-id-1 label.sk-toggleable__label-arrow:before {content: \"▸\";float: left;margin-right: 0.25em;color: #696969;}#sk-container-id-1 label.sk-toggleable__label-arrow:hover:before {color: black;}#sk-container-id-1 div.sk-estimator:hover label.sk-toggleable__label-arrow:before {color: black;}#sk-container-id-1 div.sk-toggleable__content {max-height: 0;max-width: 0;overflow: hidden;text-align: left;background-color: #f0f8ff;}#sk-container-id-1 div.sk-toggleable__content pre {margin: 0.2em;color: black;border-radius: 0.25em;background-color: #f0f8ff;}#sk-container-id-1 input.sk-toggleable__control:checked~div.sk-toggleable__content {max-height: 200px;max-width: 100%;overflow: auto;}#sk-container-id-1 input.sk-toggleable__control:checked~label.sk-toggleable__label-arrow:before {content: \"▾\";}#sk-container-id-1 div.sk-estimator input.sk-toggleable__control:checked~label.sk-toggleable__label {background-color: #d4ebff;}#sk-container-id-1 div.sk-label input.sk-toggleable__control:checked~label.sk-toggleable__label {background-color: #d4ebff;}#sk-container-id-1 input.sk-hidden--visually {border: 0;clip: rect(1px 1px 1px 1px);clip: rect(1px, 1px, 1px, 1px);height: 1px;margin: -1px;overflow: hidden;padding: 0;position: absolute;width: 1px;}#sk-container-id-1 div.sk-estimator {font-family: monospace;background-color: #f0f8ff;border: 1px dotted black;border-radius: 0.25em;box-sizing: border-box;margin-bottom: 0.5em;}#sk-container-id-1 div.sk-estimator:hover {background-color: #d4ebff;}#sk-container-id-1 div.sk-parallel-item::after {content: \"\";width: 100%;border-bottom: 1px solid gray;flex-grow: 1;}#sk-container-id-1 div.sk-label:hover label.sk-toggleable__label {background-color: #d4ebff;}#sk-container-id-1 div.sk-serial::before {content: \"\";position: absolute;border-left: 1px solid gray;box-sizing: border-box;top: 0;bottom: 0;left: 50%;z-index: 0;}#sk-container-id-1 div.sk-serial {display: flex;flex-direction: column;align-items: center;background-color: white;padding-right: 0.2em;padding-left: 0.2em;position: relative;}#sk-container-id-1 div.sk-item {position: relative;z-index: 1;}#sk-container-id-1 div.sk-parallel {display: flex;align-items: stretch;justify-content: center;background-color: white;position: relative;}#sk-container-id-1 div.sk-item::before, #sk-container-id-1 div.sk-parallel-item::before {content: \"\";position: absolute;border-left: 1px solid gray;box-sizing: border-box;top: 0;bottom: 0;left: 50%;z-index: -1;}#sk-container-id-1 div.sk-parallel-item {display: flex;flex-direction: column;z-index: 1;position: relative;background-color: white;}#sk-container-id-1 div.sk-parallel-item:first-child::after {align-self: flex-end;width: 50%;}#sk-container-id-1 div.sk-parallel-item:last-child::after {align-self: flex-start;width: 50%;}#sk-container-id-1 div.sk-parallel-item:only-child::after {width: 0;}#sk-container-id-1 div.sk-dashed-wrapped {border: 1px dashed gray;margin: 0 0.4em 0.5em 0.4em;box-sizing: border-box;padding-bottom: 0.4em;background-color: white;}#sk-container-id-1 div.sk-label label {font-family: monospace;font-weight: bold;display: inline-block;line-height: 1.2em;}#sk-container-id-1 div.sk-label-container {text-align: center;}#sk-container-id-1 div.sk-container {/* jupyter's `normalize.less` sets `[hidden] { display: none; }` but bootstrap.min.css set `[hidden] { display: none !important; }` so we also need the `!important` here to be able to override the default hidden behavior on the sphinx rendered scikit-learn.org. See: https://github.com/scikit-learn/scikit-learn/issues/21755 */display: inline-block !important;position: relative;}#sk-container-id-1 div.sk-text-repr-fallback {display: none;}</style><div id=\"sk-container-id-1\" class=\"sk-top-container\"><div class=\"sk-text-repr-fallback\"><pre>LinearRegression()</pre><b>In a Jupyter environment, please rerun this cell to show the HTML representation or trust the notebook. <br />On GitHub, the HTML representation is unable to render, please try loading this page with nbviewer.org.</b></div><div class=\"sk-container\" hidden><div class=\"sk-item\"><div class=\"sk-estimator sk-toggleable\"><input class=\"sk-toggleable__control sk-hidden--visually\" id=\"sk-estimator-id-1\" type=\"checkbox\" checked><label for=\"sk-estimator-id-1\" class=\"sk-toggleable__label sk-toggleable__label-arrow\">LinearRegression</label><div class=\"sk-toggleable__content\"><pre>LinearRegression()</pre></div></div></div></div></div>"
      ],
      "text/plain": [
       "LinearRegression()"
      ]
     },
     "execution_count": 16,
     "metadata": {},
     "output_type": "execute_result"
    }
   ],
   "source": [
    "# fit the model on our data\n",
    "model.fit(X, y)"
   ]
  },
  {
   "cell_type": "code",
   "execution_count": 17,
   "metadata": {},
   "outputs": [
    {
     "name": "stdout",
     "output_type": "stream",
     "text": [
      "[2.]\n",
      "0.9999999999999982\n"
     ]
    }
   ],
   "source": [
    "# underscore at the end indicates a fit parameter\n",
    "print(model.coef_)\n",
    "print(model.intercept_)"
   ]
  },
  {
   "cell_type": "markdown",
   "metadata": {},
   "source": [
    "The model found a line with a slope 2 and intercept 1, as we'd expect."
   ]
  },
  {
   "cell_type": "markdown",
   "metadata": {},
   "source": [
    "## Introduction to PipeLine\n",
    "A pipeline in scikit-learn is a way to chain multiple steps of a machine learning workflow into a single object. It allows you to organize your code and simplify the process of building, validating, and deploying machine learning models. The Pipeline class in scikit-learn is used to create a pipeline object, which sequentially applies a list of transformations and a final estimator.\n",
    "\n",
    "The main advantages of using pipelines are:\n",
    "<ol>\n",
    "<li>Convenience and encapsulation: You only have to call fit and predict once on your data to fit a whole sequence of estimators.</li>\n",
    "<li>Joint parameter selection: You can use a single call to GridSearchCV or other hyperparameter tuning techniques to find the optimal parameters for all the estimators in the pipeline.</li>\n",
    "<li>Safety: Pipelines help avoid leaking statistics from your test data into the trained model during cross-validation, by ensuring that the same samples are used to train the transformers and predictors.</li>\n",
    "</ol>\n",
    "\n",
    "that the same samples are used to train the transformers and predictors.\n",
    "see last example with pipeline:"
   ]
  },
  {
   "cell_type": "code",
   "execution_count": 18,
   "metadata": {},
   "outputs": [],
   "source": [
    "from sklearn.linear_model import LinearRegression\n",
    "from sklearn.preprocessing import StandardScaler\n",
    "from sklearn.pipeline import make_pipeline\n",
    "import numpy as np\n",
    "model = make_pipeline(StandardScaler(), LinearRegression())\n",
    "x = np.arange(10)\n",
    "y = 2 * x + 1\n",
    "X = x[:, np.newaxis]"
   ]
  },
  {
   "cell_type": "code",
   "execution_count": 19,
   "metadata": {},
   "outputs": [
    {
     "data": {
      "text/html": [
       "<style>#sk-container-id-2 {color: black;background-color: white;}#sk-container-id-2 pre{padding: 0;}#sk-container-id-2 div.sk-toggleable {background-color: white;}#sk-container-id-2 label.sk-toggleable__label {cursor: pointer;display: block;width: 100%;margin-bottom: 0;padding: 0.3em;box-sizing: border-box;text-align: center;}#sk-container-id-2 label.sk-toggleable__label-arrow:before {content: \"▸\";float: left;margin-right: 0.25em;color: #696969;}#sk-container-id-2 label.sk-toggleable__label-arrow:hover:before {color: black;}#sk-container-id-2 div.sk-estimator:hover label.sk-toggleable__label-arrow:before {color: black;}#sk-container-id-2 div.sk-toggleable__content {max-height: 0;max-width: 0;overflow: hidden;text-align: left;background-color: #f0f8ff;}#sk-container-id-2 div.sk-toggleable__content pre {margin: 0.2em;color: black;border-radius: 0.25em;background-color: #f0f8ff;}#sk-container-id-2 input.sk-toggleable__control:checked~div.sk-toggleable__content {max-height: 200px;max-width: 100%;overflow: auto;}#sk-container-id-2 input.sk-toggleable__control:checked~label.sk-toggleable__label-arrow:before {content: \"▾\";}#sk-container-id-2 div.sk-estimator input.sk-toggleable__control:checked~label.sk-toggleable__label {background-color: #d4ebff;}#sk-container-id-2 div.sk-label input.sk-toggleable__control:checked~label.sk-toggleable__label {background-color: #d4ebff;}#sk-container-id-2 input.sk-hidden--visually {border: 0;clip: rect(1px 1px 1px 1px);clip: rect(1px, 1px, 1px, 1px);height: 1px;margin: -1px;overflow: hidden;padding: 0;position: absolute;width: 1px;}#sk-container-id-2 div.sk-estimator {font-family: monospace;background-color: #f0f8ff;border: 1px dotted black;border-radius: 0.25em;box-sizing: border-box;margin-bottom: 0.5em;}#sk-container-id-2 div.sk-estimator:hover {background-color: #d4ebff;}#sk-container-id-2 div.sk-parallel-item::after {content: \"\";width: 100%;border-bottom: 1px solid gray;flex-grow: 1;}#sk-container-id-2 div.sk-label:hover label.sk-toggleable__label {background-color: #d4ebff;}#sk-container-id-2 div.sk-serial::before {content: \"\";position: absolute;border-left: 1px solid gray;box-sizing: border-box;top: 0;bottom: 0;left: 50%;z-index: 0;}#sk-container-id-2 div.sk-serial {display: flex;flex-direction: column;align-items: center;background-color: white;padding-right: 0.2em;padding-left: 0.2em;position: relative;}#sk-container-id-2 div.sk-item {position: relative;z-index: 1;}#sk-container-id-2 div.sk-parallel {display: flex;align-items: stretch;justify-content: center;background-color: white;position: relative;}#sk-container-id-2 div.sk-item::before, #sk-container-id-2 div.sk-parallel-item::before {content: \"\";position: absolute;border-left: 1px solid gray;box-sizing: border-box;top: 0;bottom: 0;left: 50%;z-index: -1;}#sk-container-id-2 div.sk-parallel-item {display: flex;flex-direction: column;z-index: 1;position: relative;background-color: white;}#sk-container-id-2 div.sk-parallel-item:first-child::after {align-self: flex-end;width: 50%;}#sk-container-id-2 div.sk-parallel-item:last-child::after {align-self: flex-start;width: 50%;}#sk-container-id-2 div.sk-parallel-item:only-child::after {width: 0;}#sk-container-id-2 div.sk-dashed-wrapped {border: 1px dashed gray;margin: 0 0.4em 0.5em 0.4em;box-sizing: border-box;padding-bottom: 0.4em;background-color: white;}#sk-container-id-2 div.sk-label label {font-family: monospace;font-weight: bold;display: inline-block;line-height: 1.2em;}#sk-container-id-2 div.sk-label-container {text-align: center;}#sk-container-id-2 div.sk-container {/* jupyter's `normalize.less` sets `[hidden] { display: none; }` but bootstrap.min.css set `[hidden] { display: none !important; }` so we also need the `!important` here to be able to override the default hidden behavior on the sphinx rendered scikit-learn.org. See: https://github.com/scikit-learn/scikit-learn/issues/21755 */display: inline-block !important;position: relative;}#sk-container-id-2 div.sk-text-repr-fallback {display: none;}</style><div id=\"sk-container-id-2\" class=\"sk-top-container\"><div class=\"sk-text-repr-fallback\"><pre>Pipeline(steps=[(&#x27;standardscaler&#x27;, StandardScaler()),\n",
       "                (&#x27;linearregression&#x27;, LinearRegression())])</pre><b>In a Jupyter environment, please rerun this cell to show the HTML representation or trust the notebook. <br />On GitHub, the HTML representation is unable to render, please try loading this page with nbviewer.org.</b></div><div class=\"sk-container\" hidden><div class=\"sk-item sk-dashed-wrapped\"><div class=\"sk-label-container\"><div class=\"sk-label sk-toggleable\"><input class=\"sk-toggleable__control sk-hidden--visually\" id=\"sk-estimator-id-2\" type=\"checkbox\" ><label for=\"sk-estimator-id-2\" class=\"sk-toggleable__label sk-toggleable__label-arrow\">Pipeline</label><div class=\"sk-toggleable__content\"><pre>Pipeline(steps=[(&#x27;standardscaler&#x27;, StandardScaler()),\n",
       "                (&#x27;linearregression&#x27;, LinearRegression())])</pre></div></div></div><div class=\"sk-serial\"><div class=\"sk-item\"><div class=\"sk-estimator sk-toggleable\"><input class=\"sk-toggleable__control sk-hidden--visually\" id=\"sk-estimator-id-3\" type=\"checkbox\" ><label for=\"sk-estimator-id-3\" class=\"sk-toggleable__label sk-toggleable__label-arrow\">StandardScaler</label><div class=\"sk-toggleable__content\"><pre>StandardScaler()</pre></div></div></div><div class=\"sk-item\"><div class=\"sk-estimator sk-toggleable\"><input class=\"sk-toggleable__control sk-hidden--visually\" id=\"sk-estimator-id-4\" type=\"checkbox\" ><label for=\"sk-estimator-id-4\" class=\"sk-toggleable__label sk-toggleable__label-arrow\">LinearRegression</label><div class=\"sk-toggleable__content\"><pre>LinearRegression()</pre></div></div></div></div></div></div></div>"
      ],
      "text/plain": [
       "Pipeline(steps=[('standardscaler', StandardScaler()),\n",
       "                ('linearregression', LinearRegression())])"
      ]
     },
     "execution_count": 19,
     "metadata": {},
     "output_type": "execute_result"
    }
   ],
   "source": [
    "model.fit(X, y)"
   ]
  },
  {
   "cell_type": "code",
   "execution_count": 20,
   "metadata": {},
   "outputs": [],
   "source": [
    "linear_regression_step = model.named_steps['linearregression']\n",
    "# Get the coefficients and intercept\n",
    "coefficients = linear_regression_step.coef_\n",
    "intercept = linear_regression_step.intercept_"
   ]
  },
  {
   "cell_type": "code",
   "execution_count": 21,
   "metadata": {},
   "outputs": [
    {
     "name": "stdout",
     "output_type": "stream",
     "text": [
      "[5.74456265]\n",
      "10.0\n"
     ]
    }
   ],
   "source": [
    "# underscore at the end indicates a fit parameter\n",
    "print(coefficients)\n",
    "print(intercept)"
   ]
  },
  {
   "cell_type": "markdown",
   "metadata": {},
   "source": [
    "Why do you think the resaults are different?( is this related to scaler?)"
   ]
  }
 ],
 "metadata": {
  "kernelspec": {
   "display_name": "Python 3",
   "language": "python",
   "name": "python3"
  },
  "language_info": {
   "codemirror_mode": {
    "name": "ipython",
    "version": 3
   },
   "file_extension": ".py",
   "mimetype": "text/x-python",
   "name": "python",
   "nbconvert_exporter": "python",
   "pygments_lexer": "ipython3",
   "version": "3.9.12"
  }
 },
 "nbformat": 4,
 "nbformat_minor": 2
}
