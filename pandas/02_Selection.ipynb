{
 "cells": [
  {
   "cell_type": "markdown",
   "metadata": {},
   "source": [
    "# Pandas\n",
    "## Selection\n"
   ]
  },
  {
   "cell_type": "code",
   "execution_count": 2,
   "metadata": {},
   "outputs": [
    {
     "data": {
      "text/html": [
       "<div>\n",
       "<style scoped>\n",
       "    .dataframe tbody tr th:only-of-type {\n",
       "        vertical-align: middle;\n",
       "    }\n",
       "\n",
       "    .dataframe tbody tr th {\n",
       "        vertical-align: top;\n",
       "    }\n",
       "\n",
       "    .dataframe thead th {\n",
       "        text-align: right;\n",
       "    }\n",
       "</style>\n",
       "<table border=\"1\" class=\"dataframe\">\n",
       "  <thead>\n",
       "    <tr style=\"text-align: right;\">\n",
       "      <th></th>\n",
       "      <th>S1</th>\n",
       "      <th>R1</th>\n",
       "      <th>S2</th>\n",
       "      <th>R2</th>\n",
       "      <th>S3</th>\n",
       "      <th>R3</th>\n",
       "      <th>S4</th>\n",
       "      <th>R4</th>\n",
       "      <th>S5</th>\n",
       "      <th>R5</th>\n",
       "      <th>Class</th>\n",
       "    </tr>\n",
       "  </thead>\n",
       "  <tbody>\n",
       "    <tr>\n",
       "      <th>0</th>\n",
       "      <td>1</td>\n",
       "      <td>10</td>\n",
       "      <td>1</td>\n",
       "      <td>11</td>\n",
       "      <td>1</td>\n",
       "      <td>13</td>\n",
       "      <td>1</td>\n",
       "      <td>12</td>\n",
       "      <td>1</td>\n",
       "      <td>1</td>\n",
       "      <td>9</td>\n",
       "    </tr>\n",
       "    <tr>\n",
       "      <th>1</th>\n",
       "      <td>2</td>\n",
       "      <td>11</td>\n",
       "      <td>2</td>\n",
       "      <td>13</td>\n",
       "      <td>2</td>\n",
       "      <td>10</td>\n",
       "      <td>2</td>\n",
       "      <td>12</td>\n",
       "      <td>2</td>\n",
       "      <td>1</td>\n",
       "      <td>9</td>\n",
       "    </tr>\n",
       "    <tr>\n",
       "      <th>2</th>\n",
       "      <td>3</td>\n",
       "      <td>12</td>\n",
       "      <td>3</td>\n",
       "      <td>11</td>\n",
       "      <td>3</td>\n",
       "      <td>13</td>\n",
       "      <td>3</td>\n",
       "      <td>10</td>\n",
       "      <td>3</td>\n",
       "      <td>1</td>\n",
       "      <td>9</td>\n",
       "    </tr>\n",
       "    <tr>\n",
       "      <th>3</th>\n",
       "      <td>4</td>\n",
       "      <td>10</td>\n",
       "      <td>4</td>\n",
       "      <td>11</td>\n",
       "      <td>4</td>\n",
       "      <td>1</td>\n",
       "      <td>4</td>\n",
       "      <td>13</td>\n",
       "      <td>4</td>\n",
       "      <td>12</td>\n",
       "      <td>9</td>\n",
       "    </tr>\n",
       "    <tr>\n",
       "      <th>4</th>\n",
       "      <td>4</td>\n",
       "      <td>1</td>\n",
       "      <td>4</td>\n",
       "      <td>13</td>\n",
       "      <td>4</td>\n",
       "      <td>12</td>\n",
       "      <td>4</td>\n",
       "      <td>11</td>\n",
       "      <td>4</td>\n",
       "      <td>10</td>\n",
       "      <td>9</td>\n",
       "    </tr>\n",
       "  </tbody>\n",
       "</table>\n",
       "</div>"
      ],
      "text/plain": [
       "   S1  R1  S2  R2  S3  R3  S4  R4  S5  R5  Class\n",
       "0   1  10   1  11   1  13   1  12   1   1      9\n",
       "1   2  11   2  13   2  10   2  12   2   1      9\n",
       "2   3  12   3  11   3  13   3  10   3   1      9\n",
       "3   4  10   4  11   4   1   4  13   4  12      9\n",
       "4   4   1   4  13   4  12   4  11   4  10      9"
      ]
     },
     "execution_count": 2,
     "metadata": {},
     "output_type": "execute_result"
    }
   ],
   "source": [
    "import numpy as np\n",
    "import pandas as pd\n",
    "import time \n",
    "poker_data = pd.read_csv('Datasets/poker_hand.csv')\n",
    "poker_data.head()"
   ]
  },
  {
   "cell_type": "markdown",
   "metadata": {},
   "source": [
    "### Selecting Rows & Columns Efficiently using .iloc[] & .loc[]\n",
    "\n",
    "\n",
    "In this section, we will introduce how to locate and select rows efficiently from dataframes using **.iloc[]** & **.loc[]** pandas functions. We will use iloc[] for the index number locator and loc[] for the index name locator.\n",
    "In the example below we will select 1000 rows of the poker dataset randomly. Firstly by using the **.loc[]** function, and then by using the **.iloc[]** function."
   ]
  },
  {
   "cell_type": "code",
   "execution_count": 3,
   "metadata": {},
   "outputs": [],
   "source": [
    "def loc_speed_test():\n",
    "    rows = np.random.randint(0,len(poker_data),1000) \n",
    "    # Specify the index of rows to select randomly\n",
    "    totall_time = 0\n",
    "    for i in range(1000):\n",
    "        loc_start_time = time.time()\n",
    "        poker_data.loc[rows]\n",
    "        loc_end_time = time.time()\n",
    "        totall_time += loc_end_time - loc_start_time\n",
    "        \n",
    "    avg_loc_time = totall_time/100\n",
    "    return avg_loc_time"
   ]
  },
  {
   "cell_type": "code",
   "execution_count": 4,
   "metadata": {},
   "outputs": [],
   "source": [
    "def iloc_speed_test():\n",
    "    # Specify the index of rows to select randomly\n",
    "    rows = np.random.randint(0,len(poker_data),1000)\n",
    "    totall_time = 0\n",
    "    for i in range(1000):\n",
    "        iloc_start_time = time.time()\n",
    "        poker_data.iloc[rows]\n",
    "        iloc_end_time = time.time()\n",
    "        totall_time +=  iloc_end_time-iloc_start_time\n",
    "    avg_iloc_time = totall_time/100\n",
    "    return avg_iloc_time"
   ]
  },
  {
   "cell_type": "code",
   "execution_count": 5,
   "metadata": {},
   "outputs": [
    {
     "name": "stdout",
     "output_type": "stream",
     "text": [
      "avg Difference in percent: 188.1360470451509 %\n"
     ]
    }
   ],
   "source": [
    "loc_time_list= []\n",
    "iloc_time_list= []\n",
    "for i in range(100):\n",
    "    loc_time_list .append(loc_speed_test()) \n",
    "    iloc_time_list.append(iloc_speed_test()) \n",
    "    \n",
    "loc_time = np.mean(loc_time_list)\n",
    "iloc_time = np.mean(iloc_time_list)\n",
    "print(\"avg Difference in percent: {} %\".format(((1/iloc_time) / (1/loc_time)-1) *100))"
   ]
  },
  {
   "cell_type": "markdown",
   "metadata": {},
   "source": [
    "While these two methods have the same syntax, **.iloc[]** performs almost 188% faster than **.loc[]**. The **.iloc[]** function takes advantage of the order of the indices, which are already sorted, and is therefore faster.\n",
    "We can also use them to select columns not only rows. In the next example, we will select the first three columns using both methods."
   ]
  },
  {
   "cell_type": "code",
   "execution_count": 6,
   "metadata": {},
   "outputs": [],
   "source": [
    "def iloc_column_speed_test():\n",
    "    totall_time = 0\n",
    "    for i in range(100):\n",
    "        iloc_start_time = time.time()\n",
    "        poker_data.iloc[:,:3]\n",
    "        iloc_end_time = time.time()\n",
    "        totall_time += iloc_end_time - iloc_start_time\n",
    "    avg_iloc_time = totall_time/100    \n",
    "    return avg_iloc_time\n",
    "\n"
   ]
  },
  {
   "cell_type": "code",
   "execution_count": 7,
   "metadata": {},
   "outputs": [],
   "source": [
    "def name_column_speed_test():\n",
    "    totall_time = 0\n",
    "    for i in range(100):\n",
    "        names_start_time = time.time()\n",
    "        poker_data[['S1', 'R1', 'S2']]\n",
    "        names_end_time = time.time()\n",
    "        totall_time += names_end_time - names_start_time\n",
    "    avg_name_time = totall_time/100\n",
    "    return avg_name_time\n"
   ]
  },
  {
   "cell_type": "code",
   "execution_count": 8,
   "metadata": {},
   "outputs": [
    {
     "name": "stdout",
     "output_type": "stream",
     "text": [
      "avg Difference in percent: 1126.2194888730917 %\n"
     ]
    }
   ],
   "source": [
    "name_time_list= []\n",
    "iloc_time_list= []\n",
    "for i in range(100):\n",
    "    name_time_list .append(name_column_speed_test()) \n",
    "    iloc_time_list.append(iloc_column_speed_test()) \n",
    "    \n",
    "name_time = np.mean(name_time_list)\n",
    "iloc_time = np.mean(iloc_time_list)\n",
    "\n",
    "print(\"avg Difference in percent: {} %\".format(((1/iloc_time) / (1/name_time)-1) *100))"
   ]
  },
  {
   "cell_type": "markdown",
   "metadata": {},
   "source": [
    "We can see also that using the column indexing using **.iloc[]** is still 1126% faster. So it is better to use **.iloc[]** as it is faster unless it is easier to use the loc[] to select certain columns by name."
   ]
  },
  {
   "cell_type": "markdown",
   "metadata": {},
   "source": [
    "### Replacing Values in a DataFrame Effectively\n"
   ]
  },
  {
   "cell_type": "code",
   "execution_count": 9,
   "metadata": {},
   "outputs": [
    {
     "data": {
      "text/html": [
       "<div>\n",
       "<style scoped>\n",
       "    .dataframe tbody tr th:only-of-type {\n",
       "        vertical-align: middle;\n",
       "    }\n",
       "\n",
       "    .dataframe tbody tr th {\n",
       "        vertical-align: top;\n",
       "    }\n",
       "\n",
       "    .dataframe thead th {\n",
       "        text-align: right;\n",
       "    }\n",
       "</style>\n",
       "<table border=\"1\" class=\"dataframe\">\n",
       "  <thead>\n",
       "    <tr style=\"text-align: right;\">\n",
       "      <th></th>\n",
       "      <th>Year of Birth</th>\n",
       "      <th>Gender</th>\n",
       "      <th>Ethnicity</th>\n",
       "      <th>Child's First Name</th>\n",
       "      <th>Count</th>\n",
       "      <th>Rank</th>\n",
       "    </tr>\n",
       "  </thead>\n",
       "  <tbody>\n",
       "    <tr>\n",
       "      <th>0</th>\n",
       "      <td>2011</td>\n",
       "      <td>FEMALE</td>\n",
       "      <td>ASIAN AND PACIFIC ISLANDER</td>\n",
       "      <td>SOPHIA</td>\n",
       "      <td>119</td>\n",
       "      <td>1</td>\n",
       "    </tr>\n",
       "    <tr>\n",
       "      <th>1</th>\n",
       "      <td>2011</td>\n",
       "      <td>FEMALE</td>\n",
       "      <td>ASIAN AND PACIFIC ISLANDER</td>\n",
       "      <td>CHLOE</td>\n",
       "      <td>106</td>\n",
       "      <td>2</td>\n",
       "    </tr>\n",
       "    <tr>\n",
       "      <th>2</th>\n",
       "      <td>2011</td>\n",
       "      <td>FEMALE</td>\n",
       "      <td>ASIAN AND PACIFIC ISLANDER</td>\n",
       "      <td>EMILY</td>\n",
       "      <td>93</td>\n",
       "      <td>3</td>\n",
       "    </tr>\n",
       "    <tr>\n",
       "      <th>3</th>\n",
       "      <td>2011</td>\n",
       "      <td>FEMALE</td>\n",
       "      <td>ASIAN AND PACIFIC ISLANDER</td>\n",
       "      <td>OLIVIA</td>\n",
       "      <td>89</td>\n",
       "      <td>4</td>\n",
       "    </tr>\n",
       "    <tr>\n",
       "      <th>4</th>\n",
       "      <td>2011</td>\n",
       "      <td>FEMALE</td>\n",
       "      <td>ASIAN AND PACIFIC ISLANDER</td>\n",
       "      <td>EMMA</td>\n",
       "      <td>75</td>\n",
       "      <td>5</td>\n",
       "    </tr>\n",
       "  </tbody>\n",
       "</table>\n",
       "</div>"
      ],
      "text/plain": [
       "   Year of Birth  Gender                   Ethnicity Child's First Name  \\\n",
       "0           2011  FEMALE  ASIAN AND PACIFIC ISLANDER             SOPHIA   \n",
       "1           2011  FEMALE  ASIAN AND PACIFIC ISLANDER              CHLOE   \n",
       "2           2011  FEMALE  ASIAN AND PACIFIC ISLANDER              EMILY   \n",
       "3           2011  FEMALE  ASIAN AND PACIFIC ISLANDER             OLIVIA   \n",
       "4           2011  FEMALE  ASIAN AND PACIFIC ISLANDER               EMMA   \n",
       "\n",
       "   Count  Rank  \n",
       "0    119     1  \n",
       "1    106     2  \n",
       "2     93     3  \n",
       "3     89     4  \n",
       "4     75     5  "
      ]
     },
     "execution_count": 9,
     "metadata": {},
     "output_type": "execute_result"
    }
   ],
   "source": [
    "names = pd.read_csv('Datasets/Popular_Baby_Names.csv')\n",
    "names.head()"
   ]
  },
  {
   "cell_type": "markdown",
   "metadata": {},
   "source": [
    "Let's have a closer look at the Gender feature and see the unique values they have:"
   ]
  },
  {
   "cell_type": "code",
   "execution_count": 10,
   "metadata": {},
   "outputs": [
    {
     "data": {
      "text/plain": [
       "array(['FEMALE', 'MALE'], dtype=object)"
      ]
     },
     "execution_count": 10,
     "metadata": {},
     "output_type": "execute_result"
    }
   ],
   "source": [
    "names['Gender'].unique()"
   ]
  },
  {
   "cell_type": "markdown",
   "metadata": {},
   "source": [
    "We can see that the female gender is represented with two values both uppercase and lowercase. This is very common in real data and an easy way to do so is to replace one of the values with the other to keep it consistent throughout the whole dataset. There are two ways to do it the first one is simply defining which values we want to replace, and then what we want to replace them with. This is shown in the code below:"
   ]
  },
  {
   "cell_type": "code",
   "execution_count": 11,
   "metadata": {},
   "outputs": [],
   "source": [
    "def replace_loc_method(df):\n",
    "    start_time = time.time()\n",
    "    df.loc[names.Gender=='female','Gender'] = 'FEMALE'\n",
    "    end_time = time.time()\n",
    "\n",
    "    pandas_time = end_time - start_time\n",
    "    return pandas_time"
   ]
  },
  {
   "cell_type": "markdown",
   "metadata": {},
   "source": [
    "The second method is to use the panda's built-in function **.replace()** as shown in the code below:"
   ]
  },
  {
   "cell_type": "code",
   "execution_count": 12,
   "metadata": {},
   "outputs": [],
   "source": [
    "def replace_method(df):\n",
    "    start_time = time.time()\n",
    "    df['Gender'].replace('female', 'FEMALE', inplace=True)\n",
    "    end_time = time.time()\n",
    "    replace_time = end_time - start_time\n",
    "    return replace_time"
   ]
  },
  {
   "cell_type": "code",
   "execution_count": 13,
   "metadata": {},
   "outputs": [
    {
     "name": "stdout",
     "output_type": "stream",
     "text": [
      "The differnce: 114.76267295119501 %\n"
     ]
    }
   ],
   "source": [
    "replace_time_list = []\n",
    "pandas_time_list = []\n",
    "for i in range(10000):\n",
    "    replace_time_list.append(replace_method(names.copy()))\n",
    "    pandas_time_list.append(replace_loc_method(names.copy()))\n",
    "    \n",
    "replace_time = sum(replace_time_list)/10000\n",
    "pandas_time = sum(pandas_time_list)/10000\n",
    "print('The differnce: {} %'.format(((1/replace_time )/(1/pandas_time)-1)*100))"
   ]
  },
  {
   "cell_type": "markdown",
   "metadata": {},
   "source": [
    "We can see that there is a difference in time complexity with the built-in function 114% faster than using the **.loc()** method to find the rows and columns index of the values and replace it."
   ]
  },
  {
   "cell_type": "markdown",
   "metadata": {},
   "source": [
    "We can also replace multiple values using lists. Our objective is to change all ethnicities classified as **WHITE NON-HISPANIC** or **WHITE NON-HISP** to **WNH**. Using the **.loc[]** function, we will locate babies of the ethnicities we are looking for, using the 'or' statement (which in Python is symbolized by the pipe). We will then assign the new value. As always, we also measure the CPU time needed for this operation."
   ]
  },
  {
   "cell_type": "code",
   "execution_count": 14,
   "metadata": {},
   "outputs": [],
   "source": [
    "def replace_loc_method(df):\n",
    "    start_time = time.time()\n",
    "    df.loc[(df[\"Ethnicity\"] == 'WHITE NON HISPANIC') |(df[\"Ethnicity\"] == 'WHITE NON HISP'),'Ethnicity'] = 'WNH'\n",
    "    end_time = time.time()\n",
    "\n",
    "    pandas_time = end_time - start_time\n",
    "    return pandas_time"
   ]
  },
  {
   "cell_type": "markdown",
   "metadata": {},
   "source": [
    "We can also do the same operation using the .replace() pandas built-in function as the following:"
   ]
  },
  {
   "cell_type": "code",
   "execution_count": 15,
   "metadata": {},
   "outputs": [],
   "source": [
    "def replace_method(df):\n",
    "    start_time = time.time()\n",
    "    df['Ethnicity'].replace(['WHITE NON HISPANIC','WHITE NON HISP'],\n",
    "    'WNH', inplace=True)\n",
    "    end_time = time.time()\n",
    "    replace_time = end_time - start_time\n",
    "    return replace_time"
   ]
  },
  {
   "cell_type": "markdown",
   "metadata": {},
   "source": [
    "We can see that again using the **.replace()** method is much faster than using the **.loc[]** method. To have better intuition of how much faster it is let's run the code below:"
   ]
  },
  {
   "cell_type": "code",
   "execution_count": 16,
   "metadata": {},
   "outputs": [
    {
     "name": "stdout",
     "output_type": "stream",
     "text": [
      "The differnce: 31.09173138936361 %\n"
     ]
    }
   ],
   "source": [
    "replace_time_list = []\n",
    "pandas_time_list = []\n",
    "for i in range(10000):\n",
    "    replace_time_list.append(replace_method(names.copy()))\n",
    "    pandas_time_list.append(replace_loc_method(names.copy()))\n",
    "    \n",
    "replace_time = sum(replace_time_list)/10000\n",
    "pandas_time = sum(pandas_time_list)/10000\n",
    "print('The differnce: {} %'.format(((1/replace_time )/(1/pandas_time)-1)*100))"
   ]
  },
  {
   "cell_type": "markdown",
   "metadata": {},
   "source": [
    "The **.replace()** method is 31% faster than using the .loc[] method. If your data is huge and need a lot of cleaning this tip will decrease the computational time of your data cleaning and makes your pandas code much faster and hence more efficient.\n",
    "\n",
    "Finally, we can also use dictionaries to replace both single and multiple values in your DataFrame. This will be very helpful if you would like to multiple replacing functions in one command.\n",
    "We're going to use dictionaries to replace every male's gender with BOY and every female's gender with GIRL."
   ]
  },
  {
   "cell_type": "code",
   "execution_count": 17,
   "metadata": {},
   "outputs": [],
   "source": [
    "\n",
    "def mult_replace_dict(df):\n",
    "    start_time = time.time()\n",
    "    df['Gender'].replace({'MALE':'BOY', 'FEMALE':'GIRL', 'female': 'girl'}, inplace=True)\n",
    "    end_time = time.time()\n",
    "    dict_time = end_time - start_time\n",
    "    return dict_time\n",
    "\n",
    "def mult_replace(df):\n",
    "    start_time = time.time()\n",
    "    df['Gender'].replace('MALE', 'BOY', inplace=True)\n",
    "    df['Gender'].replace('FEMALE', 'GIRL', inplace=True)\n",
    "    df['Gender'].replace('female', 'girl', inplace=True)\n",
    "    end_time = time.time()\n",
    "    list_time = end_time - start_time\n",
    "    return list_time\n",
    "    "
   ]
  },
  {
   "cell_type": "code",
   "execution_count": 18,
   "metadata": {},
   "outputs": [
    {
     "name": "stdout",
     "output_type": "stream",
     "text": [
      "The differnce: -14.321091231581761 %\n"
     ]
    }
   ],
   "source": [
    "names = pd.read_csv('Datasets/Popular_Baby_Names.csv')\n",
    "mult_replace_dict_list = []\n",
    "mult_replace_list = []\n",
    "for i in range(10000):\n",
    "    mult_replace_dict_list.append(mult_replace_dict(names.copy()))\n",
    "    mult_replace_list.append(mult_replace(names.copy()))\n",
    "    \n",
    "dict_time = sum(mult_replace_dict_list)/10000\n",
    "list_time = sum(mult_replace_list)/10000\n",
    "\n",
    "print('The differnce: {} %'.format(((1/dict_time )/(1/list_time)-1)*100))"
   ]
  },
  {
   "cell_type": "markdown",
   "metadata": {},
   "source": [
    "We could do the same thing with lists, but it's more verbose. If we compare both methods, we can see that dictionaries run approximately 14% slower. In general, working with dictionaries in Python is very efficient compared to lists: looking through a list requires a pass in every element of the list while looking at a dictionary directs instantly to the key that matches the entry. The comparison is a little unfair though since both structures serve different purposes.\n",
    "\n",
    "Using dictionaries allows you to replace the same values on several different columns. In all the previous examples, we specified the column from which the values to replace came. We're now going to replace several values from the same column with one common value. We want to classify all ethnicities into three big categories: Black, Asian and White. The syntax again is very simple. We use nested dictionaries here: the outer key is the column in which we want to replace values. The value of this outer key is another dictionary, where the keys are the ethnicities to replace, and the values for the new ethnicity (Black, Asian or White)."
   ]
  },
  {
   "cell_type": "code",
   "execution_count": 19,
   "metadata": {},
   "outputs": [
    {
     "name": "stdout",
     "output_type": "stream",
     "text": [
      "Time using .replace() with dictionary: 0.005876302719116211 sec\n"
     ]
    }
   ],
   "source": [
    "start_time = time.time()\n",
    "names.replace({'Ethnicity': {'ASIAN AND PACI': 'ASIAN', 'ASIAN AND PACIFIC ISLANDER': 'ASIAN',\n",
    "'BLACK NON HISPANIC': 'BLACK', 'BLACK NON HISP': 'BLACK',\n",
    "'WHITE NON HISPANIC': 'WHITE', 'WHITE NON HISP': 'WHITE'}})\n",
    "print(\"Time using .replace() with dictionary: {} sec\".format (time.time() - start_time))"
   ]
  }
 ],
 "metadata": {
  "kernelspec": {
   "display_name": "Python 3",
   "language": "python",
   "name": "python3"
  },
  "language_info": {
   "codemirror_mode": {
    "name": "ipython",
    "version": 3
   },
   "file_extension": ".py",
   "mimetype": "text/x-python",
   "name": "python",
   "nbconvert_exporter": "python",
   "pygments_lexer": "ipython3",
   "version": "3.9.12"
  }
 },
 "nbformat": 4,
 "nbformat_minor": 2
}
