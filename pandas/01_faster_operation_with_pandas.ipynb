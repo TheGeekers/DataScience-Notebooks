{
 "cells": [
  {
   "cell_type": "markdown",
   "metadata": {},
   "source": [
    "# Faster Operation With Pandas"
   ]
  },
  {
   "cell_type": "code",
   "execution_count": 1,
   "metadata": {},
   "outputs": [],
   "source": [
    "import pandas as pd\n",
    "import numpy as np"
   ]
  },
  {
   "cell_type": "code",
   "execution_count": 2,
   "metadata": {},
   "outputs": [],
   "source": [
    "def get_data(size= 10000):\n",
    "    df = pd.DataFrame()\n",
    "    size = 10000\n",
    "    df['age'] = np.random.randint(20,35,size)\n",
    "    df['sleep_times'] = np.random.randint(0,9,size)\n",
    "    df['avg_exercise_hours_per_day'] = np.random.randn(size)*0.5 + 1.0\n",
    "    df['breakfast'] = np.random.choice(['bread & butter & milk','bread & cheese','bread & cheese & milk','bread & butter',' bread & cheese& eggs'], size)\n",
    "    df['launch'] = np.random.choice(['pizza','chicken','burger','rice'], size)\n",
    "    df['mid_day_meal'] = np.random.choice(['apple','orange','banana'],size)\n",
    "    df['dinner'] = np.random.choice(['pizza','hotdog sandwich','fries chicken','vegetables','Grilled chicken fillet','Boiled egg'],size)\n",
    "    df['Health_life?'] = np.zeros(shape=size,dtype=bool)\n",
    "    return df"
   ]
  },
  {
   "cell_type": "code",
   "execution_count": 3,
   "metadata": {},
   "outputs": [
    {
     "data": {
      "text/html": [
       "<div>\n",
       "<style scoped>\n",
       "    .dataframe tbody tr th:only-of-type {\n",
       "        vertical-align: middle;\n",
       "    }\n",
       "\n",
       "    .dataframe tbody tr th {\n",
       "        vertical-align: top;\n",
       "    }\n",
       "\n",
       "    .dataframe thead th {\n",
       "        text-align: right;\n",
       "    }\n",
       "</style>\n",
       "<table border=\"1\" class=\"dataframe\">\n",
       "  <thead>\n",
       "    <tr style=\"text-align: right;\">\n",
       "      <th></th>\n",
       "      <th>age</th>\n",
       "      <th>sleep_times</th>\n",
       "      <th>avg_exercise_hours_per_day</th>\n",
       "      <th>breakfast</th>\n",
       "      <th>launch</th>\n",
       "      <th>mid_day_meal</th>\n",
       "      <th>dinner</th>\n",
       "      <th>Health_life?</th>\n",
       "    </tr>\n",
       "  </thead>\n",
       "  <tbody>\n",
       "    <tr>\n",
       "      <th>0</th>\n",
       "      <td>25</td>\n",
       "      <td>7</td>\n",
       "      <td>1.266867</td>\n",
       "      <td>bread &amp; cheese</td>\n",
       "      <td>pizza</td>\n",
       "      <td>banana</td>\n",
       "      <td>fries chicken</td>\n",
       "      <td>False</td>\n",
       "    </tr>\n",
       "    <tr>\n",
       "      <th>1</th>\n",
       "      <td>23</td>\n",
       "      <td>8</td>\n",
       "      <td>1.147711</td>\n",
       "      <td>bread &amp; cheese</td>\n",
       "      <td>pizza</td>\n",
       "      <td>apple</td>\n",
       "      <td>Grilled chicken fillet</td>\n",
       "      <td>False</td>\n",
       "    </tr>\n",
       "    <tr>\n",
       "      <th>2</th>\n",
       "      <td>32</td>\n",
       "      <td>6</td>\n",
       "      <td>1.434494</td>\n",
       "      <td>bread &amp; cheese&amp; eggs</td>\n",
       "      <td>pizza</td>\n",
       "      <td>apple</td>\n",
       "      <td>fries chicken</td>\n",
       "      <td>False</td>\n",
       "    </tr>\n",
       "    <tr>\n",
       "      <th>3</th>\n",
       "      <td>33</td>\n",
       "      <td>1</td>\n",
       "      <td>1.157140</td>\n",
       "      <td>bread &amp; cheese</td>\n",
       "      <td>pizza</td>\n",
       "      <td>banana</td>\n",
       "      <td>pizza</td>\n",
       "      <td>False</td>\n",
       "    </tr>\n",
       "    <tr>\n",
       "      <th>4</th>\n",
       "      <td>28</td>\n",
       "      <td>4</td>\n",
       "      <td>1.241347</td>\n",
       "      <td>bread &amp; cheese&amp; eggs</td>\n",
       "      <td>burger</td>\n",
       "      <td>banana</td>\n",
       "      <td>Grilled chicken fillet</td>\n",
       "      <td>False</td>\n",
       "    </tr>\n",
       "    <tr>\n",
       "      <th>5</th>\n",
       "      <td>29</td>\n",
       "      <td>2</td>\n",
       "      <td>1.341706</td>\n",
       "      <td>bread &amp; butter</td>\n",
       "      <td>chicken</td>\n",
       "      <td>orange</td>\n",
       "      <td>fries chicken</td>\n",
       "      <td>False</td>\n",
       "    </tr>\n",
       "    <tr>\n",
       "      <th>6</th>\n",
       "      <td>21</td>\n",
       "      <td>0</td>\n",
       "      <td>0.538933</td>\n",
       "      <td>bread &amp; butter</td>\n",
       "      <td>rice</td>\n",
       "      <td>apple</td>\n",
       "      <td>fries chicken</td>\n",
       "      <td>False</td>\n",
       "    </tr>\n",
       "    <tr>\n",
       "      <th>7</th>\n",
       "      <td>27</td>\n",
       "      <td>5</td>\n",
       "      <td>0.552015</td>\n",
       "      <td>bread &amp; cheese &amp; milk</td>\n",
       "      <td>rice</td>\n",
       "      <td>apple</td>\n",
       "      <td>vegetables</td>\n",
       "      <td>False</td>\n",
       "    </tr>\n",
       "    <tr>\n",
       "      <th>8</th>\n",
       "      <td>20</td>\n",
       "      <td>8</td>\n",
       "      <td>1.568305</td>\n",
       "      <td>bread &amp; butter</td>\n",
       "      <td>rice</td>\n",
       "      <td>banana</td>\n",
       "      <td>Boiled egg</td>\n",
       "      <td>False</td>\n",
       "    </tr>\n",
       "    <tr>\n",
       "      <th>9</th>\n",
       "      <td>29</td>\n",
       "      <td>6</td>\n",
       "      <td>1.013492</td>\n",
       "      <td>bread &amp; cheese&amp; eggs</td>\n",
       "      <td>burger</td>\n",
       "      <td>banana</td>\n",
       "      <td>vegetables</td>\n",
       "      <td>False</td>\n",
       "    </tr>\n",
       "  </tbody>\n",
       "</table>\n",
       "</div>"
      ],
      "text/plain": [
       "   age  sleep_times  avg_exercise_hours_per_day              breakfast  \\\n",
       "0   25            7                    1.266867         bread & cheese   \n",
       "1   23            8                    1.147711         bread & cheese   \n",
       "2   32            6                    1.434494   bread & cheese& eggs   \n",
       "3   33            1                    1.157140         bread & cheese   \n",
       "4   28            4                    1.241347   bread & cheese& eggs   \n",
       "5   29            2                    1.341706         bread & butter   \n",
       "6   21            0                    0.538933         bread & butter   \n",
       "7   27            5                    0.552015  bread & cheese & milk   \n",
       "8   20            8                    1.568305         bread & butter   \n",
       "9   29            6                    1.013492   bread & cheese& eggs   \n",
       "\n",
       "    launch mid_day_meal                  dinner  Health_life?  \n",
       "0    pizza       banana           fries chicken         False  \n",
       "1    pizza        apple  Grilled chicken fillet         False  \n",
       "2    pizza        apple           fries chicken         False  \n",
       "3    pizza       banana                   pizza         False  \n",
       "4   burger       banana  Grilled chicken fillet         False  \n",
       "5  chicken       orange           fries chicken         False  \n",
       "6     rice        apple           fries chicken         False  \n",
       "7     rice        apple              vegetables         False  \n",
       "8     rice       banana              Boiled egg         False  \n",
       "9   burger       banana              vegetables         False  "
      ]
     },
     "execution_count": 3,
     "metadata": {},
     "output_type": "execute_result"
    }
   ],
   "source": [
    "df = get_data()\n",
    "df.head(10)"
   ]
  },
  {
   "cell_type": "markdown",
   "metadata": {},
   "source": [
    "**Healthy Life finder** :\n",
    "Healthy Metrics\n",
    "* If they sleep  <span style=\"color:red\"> for  more than 6 hours and less than 8 </span>.\n",
    "* if they exercise more than<span style=\"color:red\"> 1 hour per day </span>\n",
    "* If their <span style=\"color:yellow\">breakfast</span> only includes    <span style=\"color:green\">bread,cheese,Milk</span>\n",
    "* If their <span style=\"color:yellow\">launch   </span> only includes    <span style=\"color:green\">chicken,burger,rice</span>\n",
    "* If their <span style=\"color:yellow\">dinner   </span> only includes    <span style=\"color:green\">vegetables,Grilled chicken fillet,Boiled egg</span>\n",
    "\n",
    "This can be represented using the following equation"
   ]
  },
  {
   "cell_type": "code",
   "execution_count": 4,
   "metadata": {},
   "outputs": [],
   "source": [
    "def Healthy_Life_finder(row):\n",
    "    if (row['sleep_times'] >=6) and (row['sleep_times'] <=8):\n",
    "        if (row['avg_exercise_hours_per_day'] > 1) :\n",
    "            if (row['breakfast'] in ['bread & cheese','bread & cheese & milk']):\n",
    "                if(row['launch'] in ['chicken','burger','rice']):\n",
    "                    if(row['dinner'] in ['vegetables','Grilled chicken fillet','Boiled egg']):     \n",
    "                        return True\n",
    "    return False"
   ]
  },
  {
   "cell_type": "markdown",
   "metadata": {},
   "source": [
    "## Level 1: Loops"
   ]
  },
  {
   "cell_type": "markdown",
   "metadata": {},
   "source": [
    "The first and straightforward approach is to use for loops to iterate over each row of the data frame. The code below"
   ]
  },
  {
   "cell_type": "code",
   "execution_count": 5,
   "metadata": {},
   "outputs": [],
   "source": [
    "df = get_data()"
   ]
  },
  {
   "cell_type": "code",
   "execution_count": 6,
   "metadata": {},
   "outputs": [
    {
     "name": "stdout",
     "output_type": "stream",
     "text": [
      "564 ms ± 7.63 ms per loop (mean ± std. dev. of 7 runs, 1 loop each)\n"
     ]
    }
   ],
   "source": [
    "%%timeit\n",
    "\n",
    "for index, row in df.iterrows():\n",
    "   df.loc[index,'Health_life?'] = Healthy_Life_finder(row)\n",
    "\n",
    "       "
   ]
  },
  {
   "cell_type": "code",
   "execution_count": 7,
   "metadata": {},
   "outputs": [
    {
     "data": {
      "text/html": [
       "<div>\n",
       "<style scoped>\n",
       "    .dataframe tbody tr th:only-of-type {\n",
       "        vertical-align: middle;\n",
       "    }\n",
       "\n",
       "    .dataframe tbody tr th {\n",
       "        vertical-align: top;\n",
       "    }\n",
       "\n",
       "    .dataframe thead th {\n",
       "        text-align: right;\n",
       "    }\n",
       "</style>\n",
       "<table border=\"1\" class=\"dataframe\">\n",
       "  <thead>\n",
       "    <tr style=\"text-align: right;\">\n",
       "      <th></th>\n",
       "      <th>age</th>\n",
       "      <th>sleep_times</th>\n",
       "      <th>avg_exercise_hours_per_day</th>\n",
       "      <th>breakfast</th>\n",
       "      <th>launch</th>\n",
       "      <th>mid_day_meal</th>\n",
       "      <th>dinner</th>\n",
       "      <th>Health_life?</th>\n",
       "    </tr>\n",
       "  </thead>\n",
       "  <tbody>\n",
       "    <tr>\n",
       "      <th>0</th>\n",
       "      <td>34</td>\n",
       "      <td>0</td>\n",
       "      <td>0.604063</td>\n",
       "      <td>bread &amp; cheese&amp; eggs</td>\n",
       "      <td>chicken</td>\n",
       "      <td>orange</td>\n",
       "      <td>vegetables</td>\n",
       "      <td>False</td>\n",
       "    </tr>\n",
       "    <tr>\n",
       "      <th>1</th>\n",
       "      <td>29</td>\n",
       "      <td>7</td>\n",
       "      <td>0.567474</td>\n",
       "      <td>bread &amp; butter</td>\n",
       "      <td>chicken</td>\n",
       "      <td>orange</td>\n",
       "      <td>Grilled chicken fillet</td>\n",
       "      <td>False</td>\n",
       "    </tr>\n",
       "    <tr>\n",
       "      <th>2</th>\n",
       "      <td>22</td>\n",
       "      <td>3</td>\n",
       "      <td>1.449342</td>\n",
       "      <td>bread &amp; butter</td>\n",
       "      <td>chicken</td>\n",
       "      <td>banana</td>\n",
       "      <td>hotdog sandwich</td>\n",
       "      <td>False</td>\n",
       "    </tr>\n",
       "    <tr>\n",
       "      <th>3</th>\n",
       "      <td>25</td>\n",
       "      <td>4</td>\n",
       "      <td>0.884998</td>\n",
       "      <td>bread &amp; cheese&amp; eggs</td>\n",
       "      <td>pizza</td>\n",
       "      <td>apple</td>\n",
       "      <td>hotdog sandwich</td>\n",
       "      <td>False</td>\n",
       "    </tr>\n",
       "    <tr>\n",
       "      <th>4</th>\n",
       "      <td>24</td>\n",
       "      <td>4</td>\n",
       "      <td>1.913594</td>\n",
       "      <td>bread &amp; butter</td>\n",
       "      <td>burger</td>\n",
       "      <td>banana</td>\n",
       "      <td>pizza</td>\n",
       "      <td>False</td>\n",
       "    </tr>\n",
       "  </tbody>\n",
       "</table>\n",
       "</div>"
      ],
      "text/plain": [
       "   age  sleep_times  avg_exercise_hours_per_day              breakfast  \\\n",
       "0   34            0                    0.604063   bread & cheese& eggs   \n",
       "1   29            7                    0.567474         bread & butter   \n",
       "2   22            3                    1.449342         bread & butter   \n",
       "3   25            4                    0.884998   bread & cheese& eggs   \n",
       "4   24            4                    1.913594         bread & butter   \n",
       "\n",
       "    launch mid_day_meal                  dinner  Health_life?  \n",
       "0  chicken       orange              vegetables         False  \n",
       "1  chicken       orange  Grilled chicken fillet         False  \n",
       "2  chicken       banana         hotdog sandwich         False  \n",
       "3    pizza        apple         hotdog sandwich         False  \n",
       "4   burger       banana                   pizza         False  "
      ]
     },
     "execution_count": 7,
     "metadata": {},
     "output_type": "execute_result"
    }
   ],
   "source": [
    "df.head()"
   ]
  },
  {
   "cell_type": "markdown",
   "metadata": {},
   "source": [
    "As we can see the computation time used to iterate through every row of the data frame is 15.8 s. Given that the data has only 10000 rows which are considered small. So if the data have millions of rows so it will take hours to do only one task. Therefore this is not the most efficient way to iterate through a data frame. So let's discuss the second method which will improve the time complexity."
   ]
  },
  {
   "cell_type": "markdown",
   "metadata": {},
   "source": [
    "## Level 2: Apply"
   ]
  },
  {
   "cell_type": "markdown",
   "metadata": {},
   "source": [
    "The .apply() method in pandas is used to apply a function to each element in a pandas dataframe. It can be used to apply a custom function to each element in a specific column or to apply a function along either axis (row-wise or column-wise) of the dataframe. Let's use it to apply the reward calculation function to each row of the data frame and then calculate the computational time:"
   ]
  },
  {
   "cell_type": "code",
   "execution_count": 8,
   "metadata": {},
   "outputs": [],
   "source": [
    "df = get_data()"
   ]
  },
  {
   "cell_type": "code",
   "execution_count": 9,
   "metadata": {},
   "outputs": [
    {
     "name": "stdout",
     "output_type": "stream",
     "text": [
      "38.1 ms ± 558 µs per loop (mean ± std. dev. of 7 runs, 10 loops each)\n"
     ]
    }
   ],
   "source": [
    "%%timeit\n",
    "df['Health_life?'] = df.apply(Healthy_Life_finder, axis = 1)"
   ]
  },
  {
   "cell_type": "markdown",
   "metadata": {},
   "source": [
    "The average time to apply the function to the 10000 rows of the data frame is only 535 ms which is 0.535 seconds. This is around 15 times faster than using the loops. However, we are still not done. We can still improve the speed and make it 1000 times faster. Let's see how!"
   ]
  },
  {
   "cell_type": "markdown",
   "metadata": {},
   "source": [
    "## Level 3: Vectorized "
   ]
  },
  {
   "cell_type": "markdown",
   "metadata": {},
   "source": [
    "Vectorization in pandas refers to the process of applying operations to entire arrays or sequences of data, as opposed to applying them to individual elements one by one. This is done for performance reasons, as vectorized operations are usually much faster than non-vectorized operations, especially in large datasets.\n",
    "\n",
    "Let's apply this to the data using the conditions stated above:"
   ]
  },
  {
   "cell_type": "code",
   "execution_count": 10,
   "metadata": {},
   "outputs": [],
   "source": [
    "df = get_data()\n"
   ]
  },
  {
   "cell_type": "code",
   "execution_count": 11,
   "metadata": {},
   "outputs": [
    {
     "name": "stdout",
     "output_type": "stream",
     "text": [
      "1.43 ms ± 11.5 µs per loop (mean ± std. dev. of 7 runs, 1,000 loops each)\n"
     ]
    }
   ],
   "source": [
    "%%timeit\n",
    "\n",
    "df.loc[((df['sleep_times'] >=6) & (df['sleep_times'] <=8)) &\n",
    "       (df['avg_exercise_hours_per_day'] > 1) &\n",
    "       (df['breakfast'].isin(['bread & cheese','bread & cheese & milk'])) &\n",
    "       (df['launch'].isin(['chicken','burger','rice'])) &\n",
    "       (df['dinner'].isin(['vegetables','Grilled chicken fillet','Boiled egg'])), 'Health_life?'] = True\n"
   ]
  },
  {
   "cell_type": "markdown",
   "metadata": {},
   "source": [
    "We can see now a tremendous decrease in the computation time compared to the previous two methods. The computation time has at least decreased by 1000. Let's have a look at the differences in a bar plot."
   ]
  },
  {
   "cell_type": "markdown",
   "metadata": {},
   "source": [
    "## Plot differences\n",
    "\n"
   ]
  },
  {
   "cell_type": "markdown",
   "metadata": {},
   "source": [
    "Finally to have a better intuition of the difference between these different three methods. We will plot a bar plot diagram using the code below:"
   ]
  },
  {
   "cell_type": "code",
   "execution_count": 12,
   "metadata": {},
   "outputs": [],
   "source": [
    "results = pd.DataFrame(\n",
    "    [\n",
    "        [\"Loop\", 816 ],\n",
    "        [\"apply\", 42.4],\n",
    "        ['vectorized', 1.53]\n",
    "        \n",
    "    ],\n",
    "    columns = ['method', 'run_time']\n",
    "\n",
    ")"
   ]
  },
  {
   "cell_type": "code",
   "execution_count": 13,
   "metadata": {},
   "outputs": [
    {
     "data": {
      "text/plain": [
       "<Axes: xlabel='method'>"
      ]
     },
     "execution_count": 13,
     "metadata": {},
     "output_type": "execute_result"
    },
    {
     "data": {
      "image/png": "[encoded data removed]",
      "text/plain": [
       "<Figure size 640x480 with 1 Axes>"
      ]
     },
     "metadata": {},
     "output_type": "display_data"
    }
   ],
   "source": [
    "results.set_index('method')['run_time'].plot(kind='bar')"
   ]
  },
  {
   "cell_type": "markdown",
   "metadata": {},
   "source": [
    "Looking at the bar plot we can get a better intuition of the huge difference between the different computational times of the different methods used in this article."
   ]
  }
 ],
 "metadata": {
  "kernelspec": {
   "display_name": "Python 3",
   "language": "python",
   "name": "python3"
  },
  "language_info": {
   "codemirror_mode": {
    "name": "ipython",
    "version": 3
   },
   "file_extension": ".py",
   "mimetype": "text/x-python",
   "name": "python",
   "nbconvert_exporter": "python",
   "pygments_lexer": "ipython3",
   "version": "3.9.12"
  }
 },
 "nbformat": 4,
 "nbformat_minor": 2
}
