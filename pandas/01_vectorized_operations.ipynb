{
 "cells": [
  {
   "cell_type": "markdown",
   "metadata": {},
   "source": [
    "# Pandas\n",
    "## Chapter1: Vectorized Operations"
   ]
  },
  {
   "cell_type": "code",
   "execution_count": 1,
   "metadata": {},
   "outputs": [],
   "source": [
    "import pandas as pd\n",
    "import numpy as np"
   ]
  },
  {
   "cell_type": "markdown",
   "metadata": {},
   "source": [
    "Create random data:"
   ]
  },
  {
   "cell_type": "code",
   "execution_count": 2,
   "metadata": {},
   "outputs": [
    {
     "data": {
      "text/html": [
       "<div>\n",
       "<style scoped>\n",
       "    .dataframe tbody tr th:only-of-type {\n",
       "        vertical-align: middle;\n",
       "    }\n",
       "\n",
       "    .dataframe tbody tr th {\n",
       "        vertical-align: top;\n",
       "    }\n",
       "\n",
       "    .dataframe thead th {\n",
       "        text-align: right;\n",
       "    }\n",
       "</style>\n",
       "<table border=\"1\" class=\"dataframe\">\n",
       "  <thead>\n",
       "    <tr style=\"text-align: right;\">\n",
       "      <th></th>\n",
       "      <th>age</th>\n",
       "      <th>sleep_times</th>\n",
       "      <th>avg_exercise_hours_per_day</th>\n",
       "      <th>breakfast</th>\n",
       "      <th>launch</th>\n",
       "      <th>mid_day_meal</th>\n",
       "      <th>dinner</th>\n",
       "      <th>Health_life?</th>\n",
       "    </tr>\n",
       "  </thead>\n",
       "  <tbody>\n",
       "    <tr>\n",
       "      <th>0</th>\n",
       "      <td>21</td>\n",
       "      <td>6</td>\n",
       "      <td>0.700319</td>\n",
       "      <td>bread &amp; butter</td>\n",
       "      <td>rice</td>\n",
       "      <td>banana</td>\n",
       "      <td>Grilled chicken fillet</td>\n",
       "      <td>False</td>\n",
       "    </tr>\n",
       "    <tr>\n",
       "      <th>1</th>\n",
       "      <td>29</td>\n",
       "      <td>1</td>\n",
       "      <td>1.061148</td>\n",
       "      <td>bread &amp; cheese &amp; milk</td>\n",
       "      <td>chicken</td>\n",
       "      <td>apple</td>\n",
       "      <td>vegetables</td>\n",
       "      <td>False</td>\n",
       "    </tr>\n",
       "    <tr>\n",
       "      <th>2</th>\n",
       "      <td>23</td>\n",
       "      <td>0</td>\n",
       "      <td>1.544252</td>\n",
       "      <td>bread &amp; cheese &amp; milk</td>\n",
       "      <td>chicken</td>\n",
       "      <td>banana</td>\n",
       "      <td>pizza</td>\n",
       "      <td>False</td>\n",
       "    </tr>\n",
       "    <tr>\n",
       "      <th>3</th>\n",
       "      <td>27</td>\n",
       "      <td>8</td>\n",
       "      <td>1.045223</td>\n",
       "      <td>bread &amp; cheese&amp; eggs</td>\n",
       "      <td>rice</td>\n",
       "      <td>apple</td>\n",
       "      <td>Grilled chicken fillet</td>\n",
       "      <td>False</td>\n",
       "    </tr>\n",
       "    <tr>\n",
       "      <th>4</th>\n",
       "      <td>26</td>\n",
       "      <td>8</td>\n",
       "      <td>1.073202</td>\n",
       "      <td>bread &amp; cheese&amp; eggs</td>\n",
       "      <td>pizza</td>\n",
       "      <td>banana</td>\n",
       "      <td>vegetables</td>\n",
       "      <td>False</td>\n",
       "    </tr>\n",
       "    <tr>\n",
       "      <th>5</th>\n",
       "      <td>29</td>\n",
       "      <td>1</td>\n",
       "      <td>1.121552</td>\n",
       "      <td>bread &amp; cheese &amp; milk</td>\n",
       "      <td>pizza</td>\n",
       "      <td>banana</td>\n",
       "      <td>fries chicken</td>\n",
       "      <td>False</td>\n",
       "    </tr>\n",
       "    <tr>\n",
       "      <th>6</th>\n",
       "      <td>33</td>\n",
       "      <td>0</td>\n",
       "      <td>1.619655</td>\n",
       "      <td>bread &amp; cheese&amp; eggs</td>\n",
       "      <td>pizza</td>\n",
       "      <td>orange</td>\n",
       "      <td>vegetables</td>\n",
       "      <td>False</td>\n",
       "    </tr>\n",
       "    <tr>\n",
       "      <th>7</th>\n",
       "      <td>34</td>\n",
       "      <td>5</td>\n",
       "      <td>1.788824</td>\n",
       "      <td>bread &amp; cheese&amp; eggs</td>\n",
       "      <td>chicken</td>\n",
       "      <td>banana</td>\n",
       "      <td>vegetables</td>\n",
       "      <td>False</td>\n",
       "    </tr>\n",
       "    <tr>\n",
       "      <th>8</th>\n",
       "      <td>26</td>\n",
       "      <td>5</td>\n",
       "      <td>1.899963</td>\n",
       "      <td>bread &amp; cheese</td>\n",
       "      <td>chicken</td>\n",
       "      <td>banana</td>\n",
       "      <td>Grilled chicken fillet</td>\n",
       "      <td>False</td>\n",
       "    </tr>\n",
       "    <tr>\n",
       "      <th>9</th>\n",
       "      <td>33</td>\n",
       "      <td>3</td>\n",
       "      <td>0.475310</td>\n",
       "      <td>bread &amp; cheese</td>\n",
       "      <td>burger</td>\n",
       "      <td>apple</td>\n",
       "      <td>Boiled egg</td>\n",
       "      <td>False</td>\n",
       "    </tr>\n",
       "  </tbody>\n",
       "</table>\n",
       "</div>"
      ],
      "text/plain": [
       "   age  sleep_times  avg_exercise_hours_per_day              breakfast  \\\n",
       "0   21            6                    0.700319         bread & butter   \n",
       "1   29            1                    1.061148  bread & cheese & milk   \n",
       "2   23            0                    1.544252  bread & cheese & milk   \n",
       "3   27            8                    1.045223   bread & cheese& eggs   \n",
       "4   26            8                    1.073202   bread & cheese& eggs   \n",
       "5   29            1                    1.121552  bread & cheese & milk   \n",
       "6   33            0                    1.619655   bread & cheese& eggs   \n",
       "7   34            5                    1.788824   bread & cheese& eggs   \n",
       "8   26            5                    1.899963         bread & cheese   \n",
       "9   33            3                    0.475310         bread & cheese   \n",
       "\n",
       "    launch mid_day_meal                  dinner  Health_life?  \n",
       "0     rice       banana  Grilled chicken fillet         False  \n",
       "1  chicken        apple              vegetables         False  \n",
       "2  chicken       banana                   pizza         False  \n",
       "3     rice        apple  Grilled chicken fillet         False  \n",
       "4    pizza       banana              vegetables         False  \n",
       "5    pizza       banana           fries chicken         False  \n",
       "6    pizza       orange              vegetables         False  \n",
       "7  chicken       banana              vegetables         False  \n",
       "8  chicken       banana  Grilled chicken fillet         False  \n",
       "9   burger        apple              Boiled egg         False  "
      ]
     },
     "execution_count": 2,
     "metadata": {},
     "output_type": "execute_result"
    }
   ],
   "source": [
    "def get_data(size= 10000):\n",
    "    df = pd.DataFrame()\n",
    "    size = 10000\n",
    "    df['age'] = np.random.randint(20,35,size)\n",
    "    df['sleep_times'] = np.random.randint(0,9,size)\n",
    "    df['avg_exercise_hours_per_day'] = np.random.randn(size)*0.5 + 1.0\n",
    "    df['breakfast'] = np.random.choice(['bread & butter & milk','bread & cheese','bread & cheese & milk','bread & butter',' bread & cheese& eggs'], size)\n",
    "    df['launch'] = np.random.choice(['pizza','chicken','burger','rice'], size)\n",
    "    df['mid_day_meal'] = np.random.choice(['apple','orange','banana'],size)\n",
    "    df['dinner'] = np.random.choice(['pizza','hotdog sandwich','fries chicken','vegetables','Grilled chicken fillet','Boiled egg'],size)\n",
    "    df['Health_life?'] = np.zeros(shape=size,dtype=bool)\n",
    "    return df\n",
    "\n",
    "df = get_data()\n",
    "df.head(10)"
   ]
  },
  {
   "cell_type": "markdown",
   "metadata": {},
   "source": [
    "**Healthy Life finder** :\n",
    "Healthy Metrics\n",
    "* If they sleep  <span style=\"color:red\"> for  more than 6 hours and less than 8 </span>.\n",
    "* if they exercise more than<span style=\"color:red\"> 1 hour per day </span>\n",
    "* If their <span style=\"color:yellow\">breakfast</span> only includes    <span style=\"color:green\">bread,cheese,Milk</span>\n",
    "* If their <span style=\"color:yellow\">launch   </span> only includes    <span style=\"color:green\">chicken,burger,rice</span>\n",
    "* If their <span style=\"color:yellow\">dinner   </span> only includes    <span style=\"color:green\">vegetables,Grilled chicken fillet,Boiled egg</span>\n",
    "\n",
    "This can be represented using the following equation"
   ]
  },
  {
   "cell_type": "code",
   "execution_count": 3,
   "metadata": {},
   "outputs": [],
   "source": [
    "def Healthy_Life_finder(row):\n",
    "    if (row['sleep_times'] >=6) and (row['sleep_times'] <=8):\n",
    "        if (row['avg_exercise_hours_per_day'] > 1) :\n",
    "            if (row['breakfast'] in ['bread & cheese','bread & cheese & milk']):\n",
    "                if(row['launch'] in ['chicken','burger','rice']):\n",
    "                    if(row['dinner'] in ['vegetables','Grilled chicken fillet','Boiled egg']):     \n",
    "                        return True\n",
    "    return False"
   ]
  },
  {
   "cell_type": "markdown",
   "metadata": {},
   "source": [
    "### Level 1: Loops"
   ]
  },
  {
   "cell_type": "markdown",
   "metadata": {},
   "source": [
    "The first and straightforward approach is to use for loops to iterate over each row of the data frame."
   ]
  },
  {
   "cell_type": "code",
   "execution_count": 4,
   "metadata": {},
   "outputs": [],
   "source": [
    "df = get_data()"
   ]
  },
  {
   "cell_type": "code",
   "execution_count": 5,
   "metadata": {},
   "outputs": [
    {
     "name": "stdout",
     "output_type": "stream",
     "text": [
      "CPU times: user 2.47 s, sys: 15 ms, total: 2.48 s\n",
      "Wall time: 2.52 s\n"
     ]
    }
   ],
   "source": [
    "%%time\n",
    "\n",
    "for index, row in df.iterrows():\n",
    "   df.loc[index,'Health_life?'] = Healthy_Life_finder(row)\n",
    "\n",
    "       "
   ]
  },
  {
   "cell_type": "markdown",
   "metadata": {},
   "source": [
    "As we can see the computation time used to iterate through every row of the data frame is 2.5 s. Given that the data has only 10000 rows which are considered small. So if the data have millions of rows so it will take hours to do only one task. Therefore this is not the most efficient way to iterate through a data frame. So let's discuss the second method which will improve the time complexity."
   ]
  },
  {
   "cell_type": "markdown",
   "metadata": {},
   "source": [
    "### Level 2: Apply"
   ]
  },
  {
   "cell_type": "markdown",
   "metadata": {},
   "source": [
    "The .apply() method in pandas is used to apply a function to each element in a pandas dataframe. It can be used to apply a custom function to each element in a specific column or to apply a function along either axis (row-wise or column-wise) of the dataframe. Let's use it to apply the reward calculation function to each row of the data frame and then calculate the computational time:"
   ]
  },
  {
   "cell_type": "code",
   "execution_count": 6,
   "metadata": {},
   "outputs": [],
   "source": [
    "df = get_data()"
   ]
  },
  {
   "cell_type": "code",
   "execution_count": 7,
   "metadata": {},
   "outputs": [
    {
     "name": "stdout",
     "output_type": "stream",
     "text": [
      "CPU times: user 71.5 ms, sys: 19.5 ms, total: 91 ms\n",
      "Wall time: 109 ms\n"
     ]
    }
   ],
   "source": [
    "%%time\n",
    "df['Health_life?'] = df.apply(Healthy_Life_finder, axis = 1)"
   ]
  },
  {
   "cell_type": "markdown",
   "metadata": {},
   "source": [
    "The average time to apply the function to the 10000 rows of the data frame is only 109 ms which is 0.109 seconds. This is around 28 times faster than using the loops. However, we are still not done. We can still improve the speed and make it 1000 times faster. Let's see how!"
   ]
  },
  {
   "cell_type": "markdown",
   "metadata": {},
   "source": [
    "### Level 3: Vectorized "
   ]
  },
  {
   "cell_type": "markdown",
   "metadata": {},
   "source": [
    "Vectorization in pandas refers to the process of applying operations to entire arrays or sequences of data, as opposed to applying them to individual elements one by one. This is done for performance reasons, as vectorized operations are usually much faster than non-vectorized operations, especially in large datasets.\n",
    "\n",
    "Let's apply this to the data using the conditions stated above:"
   ]
  },
  {
   "cell_type": "code",
   "execution_count": 8,
   "metadata": {},
   "outputs": [],
   "source": [
    "df = get_data()\n"
   ]
  },
  {
   "cell_type": "code",
   "execution_count": 9,
   "metadata": {},
   "outputs": [
    {
     "name": "stdout",
     "output_type": "stream",
     "text": [
      "CPU times: user 2.78 ms, sys: 7.88 ms, total: 10.7 ms\n",
      "Wall time: 10.1 ms\n"
     ]
    }
   ],
   "source": [
    "%%time\n",
    "df.loc[((df['sleep_times'] >=6) & (df['sleep_times'] <=8)) &\n",
    "       (df['avg_exercise_hours_per_day'] > 1) &\n",
    "       (df['breakfast'].isin(['bread & cheese','bread & cheese & milk'])) &\n",
    "       (df['launch'].isin(['chicken','burger','rice'])) &\n",
    "       (df['dinner'].isin(['vegetables','Grilled chicken fillet','Boiled egg'])), 'Health_life?'] = True\n"
   ]
  },
  {
   "cell_type": "markdown",
   "metadata": {},
   "source": [
    "We can see now a tremendous decrease in the computation time compared to the previous two methods. The computation time has at least decreased by 370. Let's have a look at the differences in a bar plot."
   ]
  },
  {
   "cell_type": "markdown",
   "metadata": {},
   "source": [
    "### Plot differences\n",
    "\n"
   ]
  },
  {
   "cell_type": "markdown",
   "metadata": {},
   "source": [
    "Finally to have a better intuition of the difference between these different three methods. We will plot a bar plot diagram using the code below:"
   ]
  },
  {
   "cell_type": "code",
   "execution_count": 10,
   "metadata": {},
   "outputs": [
    {
     "data": {
      "text/plain": [
       "<Axes: xlabel='method'>"
      ]
     },
     "execution_count": 10,
     "metadata": {},
     "output_type": "execute_result"
    },
    {
     "data": {
      "image/png": "[encoded data removed]",
      "text/plain": [
       "<Figure size 640x480 with 1 Axes>"
      ]
     },
     "metadata": {},
     "output_type": "display_data"
    }
   ],
   "source": [
    "results = pd.DataFrame(\n",
    "    [\n",
    "        [\"Loop\", 3020 ],\n",
    "        [\"apply\", 106],\n",
    "        ['vectorized', 8.2]\n",
    "        \n",
    "    ],\n",
    "    columns = ['method', 'run_time']\n",
    "\n",
    ")\n",
    "results.set_index('method')['run_time'].plot(kind='bar')"
   ]
  },
  {
   "cell_type": "markdown",
   "metadata": {},
   "source": [
    "Looking at the bar plot we can get a better intuition of the huge difference between the different computational times of the different methods used in this article."
   ]
  }
 ],
 "metadata": {
  "kernelspec": {
   "display_name": "Python 3",
   "language": "python",
   "name": "python3"
  },
  "language_info": {
   "codemirror_mode": {
    "name": "ipython",
    "version": 3
   },
   "file_extension": ".py",
   "mimetype": "text/x-python",
   "name": "python",
   "nbconvert_exporter": "python",
   "pygments_lexer": "ipython3",
   "version": "3.10.12"
  }
 },
 "nbformat": 4,
 "nbformat_minor": 2
}
